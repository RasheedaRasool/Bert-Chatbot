{
  "cells": [
    {
      "cell_type": "markdown",
      "metadata": {
        "id": "view-in-github",
        "colab_type": "text"
      },
      "source": [
        "<a href=\"https://colab.research.google.com/github/RasheedaRasool/chatbot/blob/main/Lab2.ipynb\" target=\"_parent\"><img src=\"https://colab.research.google.com/assets/colab-badge.svg\" alt=\"Open In Colab\"/></a>"
      ]
    },
    {
      "cell_type": "markdown",
      "metadata": {
        "id": "FfSc1WoPPT5A"
      },
      "source": [
        "Gaussian Distribution"
      ]
    },
    {
      "cell_type": "code",
      "execution_count": 1,
      "metadata": {
        "colab": {
          "base_uri": "https://localhost:8080/",
          "height": 281
        },
        "id": "OWsVAu1AJ_PJ",
        "outputId": "9822fe2e-8d46-4464-937d-a6487e0f2012"
      },
      "outputs": [
        {
          "output_type": "display_data",
          "data": {
            "text/plain": [
              "<Figure size 432x288 with 1 Axes>"
            ],
            "image/png": "[encoded data removed]"
          },
          "metadata": {
            "needs_background": "light"
          }
        }
      ],
      "source": [
        "from random import gauss\n",
        "import matplotlib.pyplot as plt\n",
        "\n",
        "l = [gauss(0,1) for _ in range(500)]\n",
        "plt.hist(l)\n",
        "plt.title('Gaussian Distribution (mu=0,sigms=1)')\n",
        "plt.show()\n"
      ]
    },
    {
      "cell_type": "markdown",
      "metadata": {
        "id": "X8S-UNshOni2"
      },
      "source": [
        "1.\tLoad the Global Land Temperature dataset as a list of lists. Before starting, take a moment to better inspect the attributes you are going to work on. How many of them are nominal, how many continuous or discrete?"
      ]
    },
    {
      "cell_type": "code",
      "execution_count": 2,
      "metadata": {
        "id": "2UGgEysMNgLm"
      },
      "outputs": [],
      "source": [
        "import csv\n",
        "col_names = []\n",
        "dataset = [[], [], [], [], [], [], []]\n",
        "with open('GLT_filtered.csv') as fp:\n",
        "  reader = csv.reader(fp)\n",
        "  col_names = next(reader)\n",
        "  for cols in reader:\n",
        "    if len(cols) == len(col_names): # every column must be present\n",
        "      for i in range(len(dataset)):\n",
        "        dataset[i].append(cols[i])"
      ]
    },
    {
      "cell_type": "code",
      "execution_count": 3,
      "metadata": {
        "colab": {
          "base_uri": "https://localhost:8080/"
        },
        "id": "a-6uBNmsOMWS",
        "outputId": "1c2fa56c-31ca-4102-a3a1-59b83b4dabeb"
      },
      "outputs": [
        {
          "output_type": "stream",
          "name": "stdout",
          "text": [
            "1849-01-01 26.704 1.435 Abidjan Côte D'Ivoire 5.63N 3.23W \n",
            "1849-02-01 27.434 1.3619999999999999 Abidjan Côte D'Ivoire 5.63N 3.23W \n",
            "1849-03-01   Abidjan Côte D'Ivoire 5.63N 3.23W \n",
            "1849-04-01 26.14 1.3869999999999998 Abidjan Côte D'Ivoire 5.63N 3.23W \n"
          ]
        }
      ],
      "source": [
        "for i in range(4):\n",
        "  for j in range(len(dataset)):\n",
        "    print(f'{dataset[j][i]} ', end='')\n",
        "  print('')"
      ]
    },
    {
      "cell_type": "code",
      "execution_count": 4,
      "metadata": {
        "colab": {
          "base_uri": "https://localhost:8080/"
        },
        "id": "BLWVYNroOdV4",
        "outputId": "35a5ab6d-79bb-4a75-b2a2-3419a3d0411f"
      },
      "outputs": [
        {
          "output_type": "execute_result",
          "data": {
            "text/plain": [
              "219575"
            ]
          },
          "metadata": {},
          "execution_count": 4
        }
      ],
      "source": [
        "rows_c = len(dataset[1])\n",
        "rows_c"
      ]
    },
    {
      "cell_type": "code",
      "execution_count": 5,
      "metadata": {
        "id": "45y41p5tNHW9"
      },
      "outputs": [],
      "source": [
        "#Many of the columns are nominal, while there are two numerical \n",
        "#continuous attributes: AverageTemperature and AverageTemperatureUncertainty."
      ]
    },
    {
      "cell_type": "markdown",
      "metadata": {
        "id": "no4UKF0aOqsk"
      },
      "source": [
        "2.\tAnalyze the attribute AverageTemperature, which contains missing values."
      ]
    },
    {
      "cell_type": "code",
      "execution_count": 6,
      "metadata": {
        "colab": {
          "base_uri": "https://localhost:8080/"
        },
        "id": "8YZTm2YDOqSe",
        "outputId": "9ba169a6-cd14-4e9a-a8ff-9bad0f7b19ac"
      },
      "outputs": [
        {
          "output_type": "stream",
          "name": "stdout",
          "text": [
            "AverageTemperature, missing values out of the whole dataset:,→12.6%\n",
            "AverageTemperatureUncertainty, missing values out of the whole dataset:,→12.6%\n"
          ]
        }
      ],
      "source": [
        "def count_missing(data):\n",
        "  return sum([1 for d in data if d == ''])\n",
        "count = len(dataset[1])\n",
        "print(f'AverageTemperature, missing values out of the whole dataset:,→{100*count_missing(dataset[1])/count:.1f}%')\n",
        "print(f'AverageTemperatureUncertainty, missing values out of the whole dataset:,→{100*count_missing(dataset[2])/count:.1f}%')"
      ]
    },
    {
      "cell_type": "code",
      "execution_count": 7,
      "metadata": {
        "id": "nvFJ1_oeNWcF"
      },
      "outputs": [],
      "source": [
        "def fill_gaps(data, cities):\n",
        "  right_i = 0\n",
        "  right_v = 0\n",
        "  for i, value in enumerate(data):\n",
        "    if i == 0 or cities[i] != cities[i-1]:\n",
        "      left_v = 0\n",
        "    else:\n",
        "      left_v = data[i-1]\n",
        "    # reuse the right_v value, useful when there are multiple consecutive␣,→missing values\n",
        "    if i < right_i:\n",
        "      data[i] = (left_v + right_v) / 2\n",
        "      continue\n",
        "    if value == '':\n",
        "      for j in range(i+1, len(data)):\n",
        "        if cities[j] != cities[i]: # this check must come before\n",
        "          right_v = 0\n",
        "          break\n",
        "        elif data[j] != '':\n",
        "          right_v = float(data[j])\n",
        "          break\n",
        "      if i == len(data)-1: # edge case: the last value of the last city␣,→is empty\n",
        "          right_v = 0\n",
        "          right_i = j\n",
        "      data[i] = (left_v + right_v) / 2\n",
        "    else:\n",
        "       data[i] = float(data[i]) # parse to float all present value"
      ]
    },
    {
      "cell_type": "code",
      "execution_count": 8,
      "metadata": {
        "colab": {
          "base_uri": "https://localhost:8080/"
        },
        "id": "2RBBT57X5L1d",
        "outputId": "9ecc42eb-fdad-4ca5-f8a9-d9ae0111bc7c"
      },
      "outputs": [
        {
          "output_type": "stream",
          "name": "stdout",
          "text": [
            "Original list: ['', '12', '', '', '', '15', '']\n",
            "Filled list: [6.0, 12.0, 6.0, 7.5, 11.25, 15.0, 7.5]\n"
          ]
        }
      ],
      "source": [
        "l = ['', '12', '', '', '', '15', '']\n",
        "c = ['Rome', 'Rome', 'Rome', 'Turin', 'Turin', 'Turin', 'Turin']\n",
        "c\n",
        "print('Original list:', l)\n",
        "fill_gaps(l,c)\n",
        "print('Filled list:', l)"
      ]
    },
    {
      "cell_type": "code",
      "execution_count": 9,
      "metadata": {
        "colab": {
          "base_uri": "https://localhost:8080/"
        },
        "id": "2pSOVxqQrRfX",
        "outputId": "96053c6c-6d5f-49bb-9315-789f7afb17d1"
      },
      "outputs": [
        {
          "output_type": "stream",
          "name": "stdout",
          "text": [
            "Missing values in AverageTemperature: 0\n",
            "Missing values in AverageTemperatureUncertainty: 0\n"
          ]
        }
      ],
      "source": [
        "avg_temp = dataset[1]\n",
        "avg_temp_unc = dataset[2]\n",
        "cities = dataset[3]\n",
        "fill_gaps(avg_temp, cities)\n",
        "fill_gaps(avg_temp_unc, cities)\n",
        "print('Missing values in AverageTemperature:', sum([1 for v in avg_temp if v =='']))\n",
        "print('Missing values in AverageTemperatureUncertainty:', sum([1 for v in avg_temp_unc if v == '']))"
      ]
    },
    {
      "cell_type": "code",
      "execution_count": 9,
      "metadata": {
        "id": "ewF1W_6B6dKP"
      },
      "outputs": [],
      "source": [
        ""
      ]
    },
    {
      "cell_type": "code",
      "execution_count": 10,
      "metadata": {
        "id": "9Bauk1_l7AWA"
      },
      "outputs": [],
      "source": [
        "with open('GLT_filtered_filled.csv', 'w') as fp:\n",
        "  header = ','.join(col_names)\n",
        "  fp.write(f'{header}\\n')\n",
        "  for i in range(rows_c):\n",
        "    cols = []\n",
        "    for j in range(len(dataset)):\n",
        "      cols.append(str(dataset[j][i]))\n",
        "    cols = ','.join(cols)\n",
        "    fp.write(f'{cols}\\n')"
      ]
    },
    {
      "cell_type": "code",
      "execution_count": 11,
      "metadata": {
        "colab": {
          "base_uri": "https://localhost:8080/"
        },
        "id": "vSONxPGzuYva",
        "outputId": "7d90e93c-932d-4107-c972-ff2b8ae45579"
      },
      "outputs": [
        {
          "output_type": "stream",
          "name": "stdout",
          "text": [
            "Number of distinct cities: 100\n"
          ]
        }
      ],
      "source": [
        "cities = set(dataset[3])\n",
        "print('Number of distinct cities:', len(cities))"
      ]
    },
    {
      "cell_type": "code",
      "execution_count": 12,
      "metadata": {
        "id": "mJempKyyudMr"
      },
      "outputs": [],
      "source": [
        "city_avg_temp = {}\n",
        "city_avg_temp_unc = {}\n",
        "for city in cities:\n",
        "  idxs = [i for i, c in enumerate(dataset[3]) if c == city] # extract the␣,indices\n",
        "  city_avg_temp[city] = [dataset[1][i] for i in idxs]\n",
        "  city_avg_temp_unc[city] = [dataset[2][i] for i in idxs]"
      ]
    },
    {
      "cell_type": "code",
      "execution_count": 13,
      "metadata": {
        "id": "nn1gcsLBuk9w"
      },
      "outputs": [],
      "source": [
        "def fill_gaps(data):\n",
        "  right_i = 0\n",
        "  right_v = 0\n",
        "  for i, value in enumerate(data):\n",
        "    left_v = data[i-1] if i != 0 else 0\n",
        "    # reuse the right_v value, useful when there are multiple consecutive␣,missing values\n",
        "    if i < right_i:\n",
        "      data[i] = (left_v + right_v) / 2\n",
        "      continue\n",
        "    if value == '':\n",
        "      try:\n",
        "        # use a generator to search for the first occurrence\n",
        "        right_i, right_v = next((idx+i+1, float(v)) for idx, v in enumerate(data[i+1:]) if v != '')\n",
        "      except StopIteration: # fired when the generator has no items left␣,to iterate on\n",
        "        right_i = len(data)\n",
        "        right_v = 0\n",
        "      data[i] = (left_v + right_v) / 2\n",
        "    else:\n",
        "      data[i] = float(data[i]) # parse to float all present value"
      ]
    },
    {
      "cell_type": "code",
      "execution_count": 14,
      "metadata": {
        "colab": {
          "base_uri": "https://localhost:8080/"
        },
        "id": "zuPDwEuMvE8g",
        "outputId": "4fd6de38-ae36-446a-e9e7-0007528814e3"
      },
      "outputs": [
        {
          "output_type": "stream",
          "name": "stdout",
          "text": [
            "Original list: ['8', '', '3', '', '15', '', '']\n",
            "Filled list: [8.0, 5.5, 3.0, 9.0, 15.0, 7.5, 3.75]\n"
          ]
        }
      ],
      "source": [
        "l = ['8', '', '3', '', '15', '', '']\n",
        "print('Original list:', l)\n",
        "fill_gaps(l)\n",
        "print('Filled list:', l)"
      ]
    },
    {
      "cell_type": "code",
      "execution_count": 15,
      "metadata": {
        "id": "fZKeSC2DvHdk"
      },
      "outputs": [],
      "source": [
        "for city in cities:\n",
        "  fill_gaps(city_avg_temp[city])\n",
        "  fill_gaps(city_avg_temp_unc[city])\n"
      ]
    },
    {
      "cell_type": "markdown",
      "metadata": {
        "id": "64BCdo72vLF4"
      },
      "source": [
        "Version B"
      ]
    },
    {
      "cell_type": "code",
      "execution_count": 16,
      "metadata": {
        "id": "8uyy2NhEvKZG"
      },
      "outputs": [],
      "source": [
        "def print_hottest_coolest(city, N, city_avg_temp):\n",
        "  srtd = sorted(city_avg_temp[city], reverse=True)\n",
        "  print(f'The top {N} hottest measurements taken in {city} are:', srtd[:N])\n",
        "  print(f'The top {N} coolest measurements taken in {city} are:', srtd[-1:-(N+1):-1])"
      ]
    },
    {
      "cell_type": "code",
      "execution_count": 17,
      "metadata": {
        "colab": {
          "base_uri": "https://localhost:8080/"
        },
        "id": "l4JOFDXDvV7g",
        "outputId": "b97854a2-33e8-46f2-f58f-c569485586d4"
      },
      "outputs": [
        {
          "output_type": "stream",
          "name": "stdout",
          "text": [
            "The top 5 hottest measurements taken in Rome are: [25.951, 24.998, 24.873, 24.730999999999998, 24.48]\n",
            "The top 5 coolest measurements taken in Rome are: [-1.4410000000000005, -1.3039999999999994, -1.0189999999999997, -0.871, -0.7829999999999999]\n"
          ]
        }
      ],
      "source": [
        "print_hottest_coolest('Rome', 5, city_avg_temp)"
      ]
    },
    {
      "cell_type": "markdown",
      "metadata": {
        "id": "jIWfKmJTv0A4"
      },
      "source": [
        "Exercise 1.4"
      ]
    },
    {
      "cell_type": "code",
      "execution_count": 18,
      "metadata": {
        "colab": {
          "base_uri": "https://localhost:8080/",
          "height": 382
        },
        "id": "SnHzrGO3vmfz",
        "outputId": "3a2dc9b1-e899-4994-c00a-bcff6b5cef55"
      },
      "outputs": [
        {
          "output_type": "display_data",
          "data": {
            "text/plain": [
              "<Figure size 600x400 with 1 Axes>"
            ],
            "image/png": "[encoded data removed]"
          },
          "metadata": {
            "needs_background": "light"
          }
        }
      ],
      "source": [
        "import matplotlib.pyplot as plt\n",
        "%matplotlib inline\n",
        "plt.rcParams['figure.dpi'] = 100\n",
        "for city in ['Rome', 'Bangkok']:\n",
        "  plt.hist(city_avg_temp[city], label=city)\n",
        "plt.legend()\n",
        "_ = plt.xlabel('AverageTemperature')"
      ]
    },
    {
      "cell_type": "code",
      "execution_count": 19,
      "metadata": {
        "colab": {
          "base_uri": "https://localhost:8080/"
        },
        "id": "XH2CN438vsfN",
        "outputId": "00cc1b7c-7a3d-4d2c-d909-ead85ea9662b"
      },
      "outputs": [
        {
          "output_type": "stream",
          "name": "stdout",
          "text": [
            "Rome average temperature: 12.01,Standard deviation: 6.69\n",
            "Bangkok average temperature: 80.73,Standard deviation: 3.04\n"
          ]
        }
      ],
      "source": [
        "import numpy as np\n",
        "print(f'Rome average temperature: {np.mean(city_avg_temp[\"Rome\"]):.2f},Standard deviation: {np.std(city_avg_temp[\"Rome\"]):.2f}')\n",
        "print(f'Bangkok average temperature: {np.mean(city_avg_temp[\"Bangkok\"]):.2f},Standard deviation: {np.std(city_avg_temp[\"Bangkok\"]):.2f}')"
      ]
    },
    {
      "cell_type": "markdown",
      "metadata": {
        "id": "_xaRiB0rv3rt"
      },
      "source": [
        "Exercise 1.5"
      ]
    },
    {
      "cell_type": "code",
      "execution_count": 20,
      "metadata": {
        "id": "42-P2jVLv4wL"
      },
      "outputs": [],
      "source": [
        "from IPython.display import Math"
      ]
    },
    {
      "cell_type": "code",
      "execution_count": 21,
      "metadata": {
        "id": "zkyUofkawSXo"
      },
      "outputs": [],
      "source": [
        "def fah2cel(deg_fah):\n",
        "  return (deg_fah - 32) / 1.8"
      ]
    },
    {
      "cell_type": "code",
      "execution_count": 22,
      "metadata": {
        "colab": {
          "base_uri": "https://localhost:8080/",
          "height": 382
        },
        "id": "2XxaZjDuwVDy",
        "outputId": "76c19bcb-8c87-4544-d4be-09a0a295dfcb"
      },
      "outputs": [
        {
          "output_type": "display_data",
          "data": {
            "text/plain": [
              "<Figure size 600x400 with 1 Axes>"
            ],
            "image/png": "[encoded data removed]"
          },
          "metadata": {
            "needs_background": "light"
          }
        }
      ],
      "source": [
        "bang_celsius = [fah2cel(t) for t in city_avg_temp['Bangkok']]\n",
        "plt.rcParams['figure.dpi'] = 100\n",
        "plt.hist(city_avg_temp['Rome'], label='Rome')\n",
        "plt.hist(city_avg_temp['Bangkok'], label='Bangkok (Fahrenheit)', alpha=0.6)\n",
        "plt.hist(bang_celsius, label='Bangkok (Celsius)')\n",
        "plt.legend()\n",
        "_ = plt.xlabel('AverageTemperature')"
      ]
    },
    {
      "cell_type": "code",
      "execution_count": 23,
      "metadata": {
        "colab": {
          "base_uri": "https://localhost:8080/"
        },
        "id": "_Wtf6T5awU7_",
        "outputId": "1ac23ec6-dc9a-4ff6-b8fc-2d7b7208a09f"
      },
      "outputs": [
        {
          "output_type": "stream",
          "name": "stdout",
          "text": [
            "Rome average temperature: 12.01,Standard deviation: 6.69\n",
            "Bangkok average temperature: 27.07, Standard deviation: 1.69\n"
          ]
        }
      ],
      "source": [
        "print(f'Rome average temperature: {np.mean(city_avg_temp[\"Rome\"]):.2f},Standard deviation: {np.std(city_avg_temp[\"Rome\"]):.2f}')\n",
        "print(f'Bangkok average temperature: {np.mean(bang_celsius):.2f}, Standard deviation: {np.std(bang_celsius):.2f}')"
      ]
    },
    {
      "cell_type": "markdown",
      "metadata": {
        "id": "1BUc0fbHwmyU"
      },
      "source": [
        "IMDb Reviews"
      ]
    },
    {
      "cell_type": "markdown",
      "metadata": {
        "id": "TKGXWR_MwtW5"
      },
      "source": [
        "Exercise 2.1"
      ]
    },
    {
      "cell_type": "code",
      "execution_count": 57,
      "metadata": {
        "id": "iG-WRjyIwo7e"
      },
      "outputs": [],
      "source": [
        "from collections import Counter\n",
        "reviews, labels = [], []\n",
        "# use the UTF-8 encoding to read the file\n",
        "with open('aclimdb_reviews_train.txt', encoding='utf-8') as fp:\n",
        "  reader = csv.reader(fp)\n",
        "  next(reader) #ăskip the header\n",
        "  for row in reader:\n",
        "    reviews.append(row[0])\n",
        "    labels.append(row[1])"
      ]
    },
    {
      "cell_type": "code",
      "execution_count": 58,
      "metadata": {
        "colab": {
          "base_uri": "https://localhost:8080/"
        },
        "id": "wqbl_O4g8tTX",
        "outputId": "9f9d2e4a-056d-472f-ef3d-2f8a80efc477"
      },
      "outputs": [
        {
          "output_type": "stream",
          "name": "stdout",
          "text": [
            "Number of reviews in the dataset: 25000\n",
            "Number of 1's and 0's: [('1', 12500), ('0', 12500)]\n"
          ]
        }
      ],
      "source": [
        "print(\"Number of reviews in the dataset:\", len(reviews))\n",
        "print(\"Number of 1's and 0's:\", [(k, v) for k, v in Counter(labels).items()])"
      ]
    },
    {
      "cell_type": "markdown",
      "metadata": {
        "id": "q1HthHhr9bKN"
      },
      "source": [
        "Exerciise 2.2"
      ]
    },
    {
      "cell_type": "code",
      "execution_count": 59,
      "metadata": {
        "id": "qsYyQNaN2hVb"
      },
      "outputs": [],
      "source": [
        "import string\n",
        "def tokenize(docs):\n",
        "  tokens = []\n",
        "  for doc in docs:\n",
        "    for punct in string.punctuation:\n",
        "      doc = doc.replace(punct, \" \")\n",
        "    split_doc = [token.lower() for token in doc.split(\" \") if token]\n",
        "    tokens.append(split_doc)\n",
        "  return tokens\n",
        "token_list = tokenize(reviews)"
      ]
    },
    {
      "cell_type": "code",
      "execution_count": 60,
      "metadata": {
        "colab": {
          "base_uri": "https://localhost:8080/"
        },
        "id": "OJX5sbax7omg",
        "outputId": "685b9b1b-96f1-43ce-c8e6-068e3dff7bd5"
      },
      "outputs": [
        {
          "output_type": "stream",
          "name": "stdout",
          "text": [
            "['for', 'a', 'movie', 'that', 'gets', 'no', 'respect', 'there', 'sure', 'are', 'a', 'lot', 'of', 'memorable', 'quotes', 'listed', 'for', 'this', 'gem', 'imagine', 'a', 'movie', 'where', 'joe', 'piscopo', 'is', 'actually', 'funny', 'maureen', 'stapleton', 'is', 'a', 'scene', 'stealer', 'the', 'moroni', 'character', 'is', 'an', 'absolute', 'scream', 'watch', 'for', 'alan', 'the', 'skipper', 'hale', 'jr', 'as', 'a', 'police', 'sgt']\n"
          ]
        }
      ],
      "source": [
        "print(token_list[0])"
      ]
    },
    {
      "cell_type": "markdown",
      "metadata": {
        "id": "vT89BuVj9dHO"
      },
      "source": [
        "Exerciise 2.3"
      ]
    },
    {
      "cell_type": "code",
      "execution_count": 61,
      "metadata": {
        "id": "5i0DTRof9eFn"
      },
      "outputs": [],
      "source": [
        "def compute_TF(token_list):\n",
        "  TF = []\n",
        "  for document in token_list:\n",
        "    tf = {}\n",
        "    for token in document:\n",
        "      tf[token] = tf.get(token, 0) + 1\n",
        "    TF.append(tf)\n",
        "  return TF\n",
        "TF_list = compute_TF(token_list)"
      ]
    },
    {
      "cell_type": "code",
      "execution_count": 62,
      "metadata": {
        "colab": {
          "base_uri": "https://localhost:8080/"
        },
        "id": "iitFYWWf91zg",
        "outputId": "86e21c30-3472-4ff5-c572-6608b3db9c6e"
      },
      "outputs": [
        {
          "output_type": "stream",
          "name": "stdout",
          "text": [
            "{'for': 3, 'a': 5, 'movie': 2, 'that': 1, 'gets': 1, 'no': 1, 'respect': 1, 'there': 1, 'sure': 1, 'are': 1, 'lot': 1, 'of': 1, 'memorable': 1, 'quotes': 1, 'listed': 1, 'this': 1, 'gem': 1, 'imagine': 1, 'where': 1, 'joe': 1, 'piscopo': 1, 'is': 3, 'actually': 1, 'funny': 1, 'maureen': 1, 'stapleton': 1, 'scene': 1, 'stealer': 1, 'the': 2, 'moroni': 1, 'character': 1, 'an': 1, 'absolute': 1, 'scream': 1, 'watch': 1, 'alan': 1, 'skipper': 1, 'hale': 1, 'jr': 1, 'as': 1, 'police': 1, 'sgt': 1}\n"
          ]
        }
      ],
      "source": [
        "print(TF_list[0])"
      ]
    },
    {
      "cell_type": "markdown",
      "metadata": {
        "id": "Mvplxe5_95Lb"
      },
      "source": [
        "Exercise 2.4"
      ]
    },
    {
      "cell_type": "code",
      "execution_count": 63,
      "metadata": {
        "id": "rmA5bHYQ97L0"
      },
      "outputs": [],
      "source": [
        "import math\n",
        "def compute_IDF(TF_list):\n",
        "  DF = {}\n",
        "  N = len(TF_list)\n",
        "  #ăcompute the document-frequency (DF), i.e. the number of documents in,which each token appears at least once\n",
        "  for review_tf in TF_list:\n",
        "    for token, token_tf in review_tf.items():\n",
        "      DF[token] = DF.get(token, 0) + 1\n",
        "  # compute the actual IDF\n",
        "  return {token: math.log(N / df) for token, df in DF.items()}\n",
        "IDF_dict = compute_IDF(TF_list)"
      ]
    },
    {
      "cell_type": "code",
      "execution_count": 64,
      "metadata": {
        "colab": {
          "base_uri": "https://localhost:8080/"
        },
        "id": "AiRIpDUS-F2b",
        "outputId": "283b36d2-4cd7-4a5c-f196-53d33bb05b40"
      },
      "outputs": [
        {
          "output_type": "execute_result",
          "data": {
            "text/plain": [
              "[('the', 0.008314469604085238),\n",
              " ('a', 0.03351541933781697),\n",
              " ('and', 0.03401190259170586),\n",
              " ('of', 0.05226218466281087),\n",
              " ('to', 0.06293979977387414),\n",
              " ('this', 0.09924591465797242),\n",
              " ('is', 0.1086102347240488),\n",
              " ('it', 0.11536595914077863),\n",
              " ('in', 0.12606221366364628),\n",
              " ('that', 0.20722099077039452),\n",
              " ('i', 0.22800535073111738),\n",
              " ('s', 0.32335070173124136),\n",
              " ('but', 0.3296714147240428),\n",
              " ('for', 0.33502528396230163),\n",
              " ('with', 0.35861969087665957),\n",
              " ('was', 0.43602741369080433),\n",
              " ('as', 0.4389391649658812),\n",
              " ('on', 0.46451472090274043),\n",
              " ('movie', 0.4906962524708249),\n",
              " ('t', 0.5056390970786907)]"
            ]
          },
          "metadata": {},
          "execution_count": 64
        }
      ],
      "source": [
        "sorted_view = sorted(IDF_dict.items(), key=lambda item: item[1])\n",
        "sorted_view[:20]"
      ]
    },
    {
      "cell_type": "markdown",
      "metadata": {
        "id": "75NqwXL4-IsQ"
      },
      "source": [
        "Exercise 2.5"
      ]
    },
    {
      "cell_type": "code",
      "execution_count": 65,
      "metadata": {
        "id": "P53VzpLt-LtT"
      },
      "outputs": [],
      "source": [
        "def compute_TFIDF(TF_list, IDF_dict):\n",
        "  TFIDF = []\n",
        "  for d in TF_list:\n",
        "    tfidf = {}\n",
        "    for t, t_tf in d.items():\n",
        "      tfidf[t] = t_tf * IDF_dict[t]\n",
        "    TFIDF.append(tfidf)\n",
        "  return TFIDF\n",
        "tf_idf = compute_TFIDF(TF_list, IDF_dict)"
      ]
    },
    {
      "cell_type": "code",
      "execution_count": 66,
      "metadata": {
        "colab": {
          "base_uri": "https://localhost:8080/"
        },
        "id": "ZSrVgsEd-etQ",
        "outputId": "373ed85f-80ef-4e50-c606-af1fbd21d16c"
      },
      "outputs": [
        {
          "output_type": "stream",
          "name": "stdout",
          "text": [
            "{'for': 1.005075851886905, 'a': 0.16757709668908488, 'movie': 0.9813925049416498, 'that': 0.20722099077039452, 'gets': 2.257229391273248, 'no': 1.1141321003261466, 'respect': 3.9845936982629815, 'there': 0.837387134278689, 'sure': 2.3530366364901436, 'are': 0.5868431101899066, 'lot': 2.0319474551515233, 'of': 0.05226218466281087, 'memorable': 3.6936910111111585, 'quotes': 5.5940316106970815, 'listed': 5.339139361068292, 'this': 0.09924591465797242, 'gem': 4.291820366787733, 'imagine': 3.587045148232668, 'where': 1.655900786844441, 'joe': 4.137669686960474, 'piscopo': 7.418580902748128, 'is': 0.3258307041721464, 'actually': 1.982532640511814, 'funny': 2.0743346043116913, 'maureen': 6.437751649736401, 'stapleton': 7.561681746388801, 'scene': 1.8767946184246356, 'stealer': 7.487573774235079, 'the': 0.016628939208170476, 'moroni': 8.740336742730447, 'character': 1.641547966352334, 'an': 0.7166205367455873, 'absolute': 4.315490110873637, 'scream': 4.706096104578052, 'watch': 1.5199629060064976, 'alan': 4.625372893305611, 'skipper': 7.929406526514119, 'hale': 6.515713191206113, 'jr': 4.5932416151228175, 'as': 0.4389391649658812, 'police': 3.460947386067929, 'sgt': 6.4630694577206915}\n"
          ]
        }
      ],
      "source": [
        "print(tf_idf[0])"
      ]
    },
    {
      "cell_type": "code",
      "execution_count": 67,
      "metadata": {
        "colab": {
          "base_uri": "https://localhost:8080/"
        },
        "id": "-rx6_uHf-qyo",
        "outputId": "ac065767-7888-4ea5-f4dd-17d26085c269"
      },
      "outputs": [
        {
          "output_type": "stream",
          "name": "stdout",
          "text": [
            "[('moroni', 8.740336742730447), ('skipper', 7.929406526514119), ('stapleton', 7.561681746388801), ('stealer', 7.487573774235079), ('piscopo', 7.418580902748128), ('hale', 6.515713191206113), ('sgt', 6.4630694577206915), ('maureen', 6.437751649736401), ('quotes', 5.5940316106970815), ('listed', 5.339139361068292)]\n"
          ]
        }
      ],
      "source": [
        "print(sorted(tf_idf[0].items(), key=lambda item: item[1], reverse=True)[:10])"
      ]
    },
    {
      "cell_type": "markdown",
      "metadata": {
        "id": "2j_fVFIL-tE0"
      },
      "source": [
        "Exercise 2.6"
      ]
    },
    {
      "cell_type": "code",
      "execution_count": 68,
      "metadata": {
        "id": "vEJJ0ufm-yUz"
      },
      "outputs": [],
      "source": [
        "def norm(d):\n",
        "  return sum([value**2 for t, value in d.items()])**.5\n",
        "def dot_product(v1, v2):\n",
        "# only the words that appear in at least one of the two vectors/documents,are involved\n",
        "  dict_d = set(list(v1.keys()) + list(v2.keys()))\n",
        "  return sum([(v1.get(d, 0.0) * v2.get(d, 0.0)) for d in dict_d])\n",
        "def cosine_similarity(v1, v2):\n",
        "  return dot_product(v1, v2) / (norm(v1) * norm(v2))"
      ]
    },
    {
      "cell_type": "code",
      "execution_count": 69,
      "metadata": {
        "colab": {
          "base_uri": "https://localhost:8080/"
        },
        "id": "4uvSiKxf-70m",
        "outputId": "75bb9b52-6c3a-469e-a7a7-9d7e0b8b35a6"
      },
      "outputs": [
        {
          "output_type": "stream",
          "name": "stdout",
          "text": [
            "Document (0) and document (1) have cosine similarity: 0.001302072795680768\n"
          ]
        }
      ],
      "source": [
        "print('Document (0) and document (1) have cosine similarity:',cosine_similarity(tf_idf[0], tf_idf[1]))"
      ]
    },
    {
      "cell_type": "code",
      "source": [
        "len(labels)"
      ],
      "metadata": {
        "colab": {
          "base_uri": "https://localhost:8080/"
        },
        "id": "KdtbdMuPclt4",
        "outputId": "f7ad9ee6-87d7-4ce6-9799-2be305fa84d5"
      },
      "execution_count": 70,
      "outputs": [
        {
          "output_type": "execute_result",
          "data": {
            "text/plain": [
              "25000"
            ]
          },
          "metadata": {},
          "execution_count": 70
        }
      ]
    },
    {
      "cell_type": "code",
      "execution_count": 72,
      "metadata": {
        "colab": {
          "base_uri": "https://localhost:8080/"
        },
        "id": "aNJoj-9H_Cod",
        "outputId": "46a57605-b3bc-4250-f03b-d0a13993c899"
      },
      "outputs": [
        {
          "output_type": "execute_result",
          "data": {
            "text/plain": [
              "(12500, 12500)"
            ]
          },
          "metadata": {},
          "execution_count": 72
        }
      ],
      "source": [
        "pos_i = [i for i, label in enumerate(labels) if label == '1']\n",
        "neg_i = [i for i, label in enumerate(labels) if label == '0']\n",
        "len(pos_i), len(neg_i)"
      ]
    },
    {
      "cell_type": "code",
      "execution_count": null,
      "metadata": {
        "colab": {
          "base_uri": "https://localhost:8080/"
        },
        "id": "Q6iN3Edb_Lf5",
        "outputId": "945dc15c-247b-48e0-af70-6a145593af10"
      },
      "outputs": [
        {
          "output_type": "stream",
          "name": "stdout",
          "text": [
            ""
          ]
        }
      ],
      "source": [
        "import numpy as np\n",
        "similarities = []\n",
        "y_true = labels\n",
        "y_pred = []\n",
        "r_len = len(tf_idf)\n",
        "try:\n",
        "  for i, r1 in enumerate(tf_idf):\n",
        "    store_sim = []\n",
        "    curr_sim = []\n",
        "    for j, r2 in enumerate(tf_idf):\n",
        "      if j == i:\n",
        "        curr_sim.append(-1) #ăthis value will never be used\n",
        "      elif j < i:\n",
        "        curr_sim.append(similarities[j][i-j-1]) # reuse the,similarities already evaluated\n",
        "      else:\n",
        "        s = cosine_similarity(tf_idf[j], tf_idf[i])\n",
        "        store_sim.append(s)\n",
        "        curr_sim.append(s)\n",
        "    similarities.append(store_sim) #ăstore only the similarities computed,in this iteration\n",
        "    if i in pos_i:\n",
        "      p_mask = pos_i.copy()\n",
        "      p_mask.pop(i)\n",
        "      n_mask = neg_i\n",
        "    else:\n",
        "      p_mask = pos_i\n",
        "      n_mask = neg_i.copy()\n",
        "      n_mask.pop(i)\n",
        "    p_mean = np.array(curr_sim)[p_mask].mean()\n",
        "    n_mean = np.array(curr_sim)[n_mask].mean()\n",
        "    if p_mean > n_mean:\n",
        "      y_pred.append('1')\n",
        "    else:\n",
        "      y_pred.append('0')\n",
        "    print(f'{100*i/(r_len):.2f}%', end='\\r')\n",
        "except KeyboardInterrupt:\n",
        "  print('\\nInterrupted')\n",
        "  pred_c = len(y_pred)\n",
        "  correct = sum([1 for t, p in zip(y_pred, y_true[:pred_c]) if t == p])\n",
        "  print(f'Computed {i} reviews up to now. Accuracy: {correct/pred_c * 100:2f}%')"
      ]
    }
  ],
  "metadata": {
    "colab": {
      "collapsed_sections": [],
      "name": "Untitled6.ipynb",
      "provenance": [],
      "authorship_tag": "ABX9TyMB7NFQ6gtRiwQWBgzL+gkf",
      "include_colab_link": true
    },
    "kernelspec": {
      "display_name": "Python 3",
      "name": "python3"
    },
    "language_info": {
      "name": "python"
    }
  },
  "nbformat": 4,
  "nbformat_minor": 0
}